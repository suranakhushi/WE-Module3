{
  "nbformat": 4,
  "nbformat_minor": 0,
  "metadata": {
    "colab": {
      "provenance": [],
      "authorship_tag": "ABX9TyPqdDoFLS/CHNwVwxN/jjxN",
      "include_colab_link": true
    },
    "kernelspec": {
      "name": "python3",
      "display_name": "Python 3"
    },
    "language_info": {
      "name": "python"
    }
  },
  "cells": [
    {
      "cell_type": "markdown",
      "metadata": {
        "id": "view-in-github",
        "colab_type": "text"
      },
      "source": [
        "<a href=\"https://colab.research.google.com/github/suranakhushi/WE-Module3/blob/main/Markov_Chain.ipynb\" target=\"_parent\"><img src=\"https://colab.research.google.com/assets/colab-badge.svg\" alt=\"Open In Colab\"/></a>"
      ]
    },
    {
      "cell_type": "code",
      "source": [
        "import random\n",
        "from collections import defaultdict\n",
        "\n",
        "def build_chain(text_corpus, chain_length):\n",
        "    # Initialize the transition dictionary\n",
        "    transition_dict = defaultdict(list)\n",
        "\n",
        "    # Split the text corpus into words\n",
        "    words = text_corpus.split()\n",
        "\n",
        "    # Build the transition dictionary\n",
        "    for i in range(len(words) - chain_length):\n",
        "        key = tuple(words[i:i + chain_length])\n",
        "        next_word = words[i + chain_length]\n",
        "        transition_dict[key].append(next_word)\n",
        "\n",
        "    return transition_dict\n",
        "\n",
        "def generate_text_from_chain(transition_dict, start_words, chain_length, num_generated):\n",
        "    # Initialize the generated sentence with the start words\n",
        "    generated_sentence = list(start_words)\n",
        "\n",
        "    # Generate the sentence\n",
        "    for _ in range(num_generated):\n",
        "        # Get the last chain_length words\n",
        "        current_key = tuple(generated_sentence[-chain_length:])\n",
        "\n",
        "        # Choose the next word from pre-computed possible next words\n",
        "        next_word_options = transition_dict.get(current_key, [\".\"])  # \".\" used as fallback\n",
        "        next_word = random.choice(next_word_options)\n",
        "\n",
        "        # Append the next word to the generated sentence\n",
        "        generated_sentence.append(next_word)\n",
        "\n",
        "    # Join the generated words to form the sentence\n",
        "    generated_sentence = ' '.join(generated_sentence)\n",
        "\n",
        "    return generated_sentence\n",
        "\n",
        "# Sample text cases and start words\n",
        "text_cases = [\n",
        "    \"The quick brown fox jumps over the lazy dog.\",\n",
        "    \"Lorem ipsum dolor sit amet, consectetur adipiscing elit. Sed do eiusmod tempor incididunt ut labore et dolore magna aliqua.\",\n",
        "    \"To be or not to be, that is the question.\",\n",
        "    \"In the beginning God created the heavens and the earth.\",\n",
        "    \"All work and no play makes Jack a dull boy.\",\n",
        "    \"Roses are red, violets are blue, sugar is sweet, and so are you.\",\n",
        "    \"It was the best of times, it was the worst of times, it was the age of wisdom, it was the age of foolishness.\",\n",
        "    \"I have a dream that one day this nation will rise up and live out the true meaning of its creed.\",\n",
        "    \"Four score and seven years ago our fathers brought forth on this continent, a new nation, conceived in Liberty, and dedicated to the proposition that all men are created equal.\"\n",
        "]\n",
        "\n",
        "start_words_list = [\n",
        "    [\"The\", \"quick\", \"brown\"],\n",
        "    [\"Lorem\", \"ipsum\", \"dolor\"],\n",
        "    [\"To\", \"be\", \"or\"],\n",
        "    [\"In\", \"the\", \"beginning\"],\n",
        "    [\"All\", \"work\", \"and\"],\n",
        "    [\"Roses\", \"are\", \"red\"],\n",
        "    [\"It\", \"was\", \"the\"],\n",
        "    [\"I\", \"have\", \"a\"],\n",
        "    [\"Four\", \"score\", \"and\"]\n",
        "]\n",
        "\n",
        "chain_length = 3\n",
        "num_generated = 10\n",
        "\n",
        "# Pre-process text corpora and build chains with pre-computed next words\n",
        "chains = [build_chain(text_corpus, chain_length) for text_corpus in text_cases]\n",
        "\n",
        "# Generate and print sentences for each text case\n",
        "for i, (text_corpus, start_words) in enumerate(zip(text_cases, start_words_list)):\n",
        "    print(f\"Text Case {i+1}:\")\n",
        "    generated_sentence = generate_text_from_chain(chains[i], start_words, chain_length, num_generated)\n",
        "    print(generated_sentence)\n",
        "    print()\n",
        "\n",
        "\n",
        "\n"
      ],
      "metadata": {
        "colab": {
          "base_uri": "https://localhost:8080/"
        },
        "id": "dJRKD9ifTxFm",
        "outputId": "d1849159-115c-46c2-d10f-d06065414ffc"
      },
      "execution_count": 13,
      "outputs": [
        {
          "output_type": "stream",
          "name": "stdout",
          "text": [
            "Text Case 1:\n",
            "The quick brown fox jumps over the lazy dog. . . . .\n",
            "\n",
            "Text Case 2:\n",
            "Lorem ipsum dolor sit amet, consectetur adipiscing elit. Sed do eiusmod tempor incididunt\n",
            "\n",
            "Text Case 3:\n",
            "To be or not to be, that is the question. . . .\n",
            "\n",
            "Text Case 4:\n",
            "In the beginning God created the heavens and the earth. . . .\n",
            "\n",
            "Text Case 5:\n",
            "All work and no play makes Jack a dull boy. . . .\n",
            "\n",
            "Text Case 6:\n",
            "Roses are red . . . . . . . . . .\n",
            "\n",
            "Text Case 7:\n",
            "It was the best of times, it was the age of wisdom, it\n",
            "\n",
            "Text Case 8:\n",
            "I have a dream that one day this nation will rise up and\n",
            "\n",
            "Text Case 9:\n",
            "Four score and seven years ago our fathers brought forth on this continent,\n",
            "\n"
          ]
        }
      ]
    },
    {
      "cell_type": "code",
      "source": [
        "# Empty Text Corpus\n",
        "empty_text_corpus = \"\"\n",
        "empty_start_words = [\"Empty\", \"start\", \"words\"]\n",
        "empty_chain = build_chain(empty_text_corpus, chain_length)\n",
        "empty_generated_sentence = generate_text_from_chain(empty_chain, empty_start_words, chain_length, num_generated)\n",
        "print(\"Edge Case: Empty Text Corpus\")\n",
        "print(empty_generated_sentence)\n",
        "print()"
      ],
      "metadata": {
        "colab": {
          "base_uri": "https://localhost:8080/"
        },
        "id": "nt18b_XHT1oB",
        "outputId": "7cc30583-4d9c-4a88-ffbc-e8f65791613d"
      },
      "execution_count": 7,
      "outputs": [
        {
          "output_type": "stream",
          "name": "stdout",
          "text": [
            "Edge Case: Empty Text Corpus\n",
            "Empty start words . . . . . . . . . .\n",
            "\n"
          ]
        }
      ]
    },
    {
      "cell_type": "code",
      "source": [
        "\n",
        "# Text Corpus with Very Large Size\n",
        "very_large_text_corpus = \"Lorem ipsum \" * 100000  # Repeat \"Lorem ipsum\" 100000 times\n",
        "very_large_start_words = [\"Very\", \"large\", \"start\"]\n",
        "very_large_chain = build_chain(very_large_text_corpus, chain_length)\n",
        "very_large_generated_sentence = generate_text_from_chain(very_large_chain, very_large_start_words, chain_length, num_generated)\n",
        "print(\"Edge Case: Text Corpus with Very Large Size\")\n",
        "print(very_large_generated_sentence)\n"
      ],
      "metadata": {
        "colab": {
          "base_uri": "https://localhost:8080/"
        },
        "id": "9U6jQc_SUHSI",
        "outputId": "539b16b5-93f0-40f2-a08a-2166535b61c0"
      },
      "execution_count": 9,
      "outputs": [
        {
          "output_type": "stream",
          "name": "stdout",
          "text": [
            "Edge Case: Text Corpus with Very Large Size\n",
            "Very large start . . . . . . . . . .\n"
          ]
        }
      ]
    },
    {
      "cell_type": "code",
      "source": [
        "# Text Corpus with Short Sentences\n",
        "short_sentences_text_corpus = \"Hello world. Goodbye world.\"\n",
        "short_sentences_start_words = [\"Short\", \"sentences\", \"start\"]\n",
        "short_sentences_chain = build_chain(short_sentences_text_corpus, chain_length)\n",
        "short_sentences_generated_sentence = generate_text_from_chain(short_sentences_chain, short_sentences_start_words, chain_length, num_generated)\n",
        "print(\"Edge Case: Text Corpus with Short Sentences\")\n",
        "print(short_sentences_generated_sentence)\n",
        "print()"
      ],
      "metadata": {
        "colab": {
          "base_uri": "https://localhost:8080/"
        },
        "id": "mUWbhl2dUFgf",
        "outputId": "f896e49c-3346-4a77-f42e-b8cd728fbdd3"
      },
      "execution_count": 10,
      "outputs": [
        {
          "output_type": "stream",
          "name": "stdout",
          "text": [
            "Edge Case: Text Corpus with Short Sentences\n",
            "Short sentences start . . . . . . . . . .\n",
            "\n"
          ]
        }
      ]
    },
    {
      "cell_type": "code",
      "source": [
        "# Single Word Text Corpus\n",
        "single_word_text_corpus = \"Hello\"\n",
        "single_word_start_words = [\"Single\", \"word\", \"start\"]\n",
        "single_word_chain = build_chain(single_word_text_corpus, chain_length)\n",
        "single_word_generated_sentence = generate_text_from_chain(single_word_chain, single_word_start_words, chain_length, num_generated)\n",
        "print(\"Edge Case: Single Word Text Corpus\")\n",
        "print(single_word_generated_sentence)\n",
        "print()"
      ],
      "metadata": {
        "colab": {
          "base_uri": "https://localhost:8080/"
        },
        "id": "-_-keeIdT4im",
        "outputId": "b6803539-d6f8-431c-c5c9-4aac477bd425"
      },
      "execution_count": 11,
      "outputs": [
        {
          "output_type": "stream",
          "name": "stdout",
          "text": [
            "Edge Case: Single Word Text Corpus\n",
            "Single word start . . . . . . . . . .\n",
            "\n"
          ]
        }
      ]
    }
  ]
}