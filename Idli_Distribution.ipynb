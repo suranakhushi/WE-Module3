{
  "nbformat": 4,
  "nbformat_minor": 0,
  "metadata": {
    "colab": {
      "provenance": [],
      "authorship_tag": "ABX9TyPL51DYiaL7cJAlRWZoQLbs",
      "include_colab_link": true
    },
    "kernelspec": {
      "name": "python3",
      "display_name": "Python 3"
    },
    "language_info": {
      "name": "python"
    }
  },
  "cells": [
    {
      "cell_type": "markdown",
      "metadata": {
        "id": "view-in-github",
        "colab_type": "text"
      },
      "source": [
        "<a href=\"https://colab.research.google.com/github/suranakhushi/WE-Module3/blob/main/Idli_Distribution.ipynb\" target=\"_parent\"><img src=\"https://colab.research.google.com/assets/colab-badge.svg\" alt=\"Open In Colab\"/></a>"
      ]
    },
    {
      "cell_type": "code",
      "execution_count": 1,
      "metadata": {
        "colab": {
          "base_uri": "https://localhost:8080/"
        },
        "id": "rfachg6Pum2l",
        "outputId": "e65bb81d-28f0-4ab3-ea3a-d9aff8b5899d"
      },
      "outputs": [
        {
          "output_type": "stream",
          "name": "stdout",
          "text": [
            "Test case 1: []\n",
            "Minimum idlis distribution needed: 0\n",
            "Test case 2: [1]\n",
            "Minimum idlis distribution needed: -1\n",
            "Test case 3: [2]\n",
            "Minimum idlis distribution needed: 0\n",
            "Test case 4: [2, 4, 6, 8]\n",
            "Minimum idlis distribution needed: 0\n",
            "Test case 5: [1, 3, 5, 7]\n",
            "Minimum idlis distribution needed: 4\n",
            "Test case 6: [1, 2, 3, 4, 5]\n",
            "Minimum idlis distribution needed: -1\n"
          ]
        }
      ],
      "source": [
        "def min_idlis_distribution(idlis):\n",
        "    total_idlis = sum(idlis)\n",
        "    if total_idlis % 2 != 0:\n",
        "        return -1\n",
        "\n",
        "    if len(idlis) == 1 and idlis[0] % 2 == 0:\n",
        "        return 0\n",
        "\n",
        "    if all(idli % 2 == 0 for idli in idlis):\n",
        "        return 0\n",
        "\n",
        "    min_idlis = 0\n",
        "    extra_idlis = 0\n",
        "    for idli in idlis:\n",
        "        idlis_needed = 2 - (idli + extra_idlis) % 2\n",
        "        min_idlis += idlis_needed\n",
        "        extra_idlis = max(0, idlis_needed - 1)\n",
        "\n",
        "    return min_idlis\n",
        "\n",
        "# List of unique test cases\n",
        "testcases = [\n",
        "    [],                         # Edge case: Empty list\n",
        "    [1],                        # Edge case: Single person with odd number of idlis\n",
        "    [2],                        # Edge case: Single person with even number of idlis\n",
        "    [2, 4, 6, 8],               # Edge case: Multiple people with even number of idlis\n",
        "    [1, 3, 5, 7],               # Edge case: Multiple people with odd number of idlis\n",
        "    [1, 2, 3, 4, 5],            # Edge case: Multiple people with varying number of idlis\n",
        "]\n",
        "\n",
        "# Run test cases\n",
        "for i, testcase in enumerate(testcases):\n",
        "    print(f\"Test case {i+1}: {testcase}\")\n",
        "    print(\"Minimum idlis distribution needed:\", min_idlis_distribution(testcase))\n"
      ]
    }
  ]
}